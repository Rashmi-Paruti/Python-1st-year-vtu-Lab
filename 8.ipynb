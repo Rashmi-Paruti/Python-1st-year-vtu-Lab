{
 "cells": [
  {
   "cell_type": "markdown",
   "metadata": {},
   "source": [
    "# Write a function named DivExp which takes TWO parameters a, b and returns a value c (c=a/b). Write suitable assertion for a>0 in function DivExp and raise an exception for when b=0. Develop a suitable program which reads two values from the console and calls a function DivExp."
   ]
  },
  {
   "cell_type": "code",
   "execution_count": 1,
   "metadata": {},
   "outputs": [
    {
     "name": "stdout",
     "output_type": "stream",
     "text": [
      "Enter a value for a : 10\n",
      "Enter a value for b : 10\n",
      "10 / 10 = 1.0\n"
     ]
    }
   ],
   "source": [
    "import sys\n",
    "\n",
    "def DivExp(a,b):\n",
    "    assert a>0, \"a should be greater than 0\"\n",
    "    try:\n",
    "        c = a/b\n",
    "    except ZeroDivisionError:\n",
    "        print(\"Value of b cannot be zero\")\n",
    "        sys.exit(0)\n",
    "    else:\n",
    "        return c\n",
    "\n",
    "val1 = int(input(\"Enter a value for a : \"))\n",
    "val2 = int(input(\"Enter a value for b : \"))\n",
    "\n",
    "val3 = DivExp(val1, val2)\n",
    "\n",
    "print(val1, \"/\", val2, \"=\", val3)"
   ]
  }
 ],
 "metadata": {
  "kernelspec": {
   "display_name": "Python 3",
   "language": "python",
   "name": "python3"
  },
  "language_info": {
   "codemirror_mode": {
    "name": "ipython",
    "version": 3
   },
   "file_extension": ".py",
   "mimetype": "text/x-python",
   "name": "python",
   "nbconvert_exporter": "python",
   "pygments_lexer": "ipython3",
   "version": "3.7.4"
  }
 },
 "nbformat": 4,
 "nbformat_minor": 2
}
