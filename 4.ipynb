{
 "cells": [
  {
   "cell_type": "markdown",
   "metadata": {},
   "source": [
    "\n",
    "# Read a multi-digit number (as chars) from the console. Develop a program to print the frequency of each digit with suitable message."
   ]
  },
  {
   "cell_type": "code",
   "execution_count": 2,
   "metadata": {},
   "outputs": [
    {
     "name": "stdout",
     "output_type": "stream",
     "text": [
      "Enter a number : 9892326\n",
      "The number entered is : 9892326\n",
      "{'6', '3', '8', '9', '2'}\n",
      "6 occurs 1 times\n",
      "3 occurs 1 times\n",
      "8 occurs 1 times\n",
      "9 occurs 2 times\n",
      "2 occurs 2 times\n"
     ]
    }
   ],
   "source": [
    "num = input(\"Enter a number : \")\n",
    "print(\"The number entered is :\", num)\n",
    "\n",
    "uniqDig = set(num)\n",
    "print(uniqDig)\n",
    "\n",
    "for elem in uniqDig:\n",
    "    print(elem, \"occurs\", num.count(elem), \"times\")"
   ]
  }
 ],
 "metadata": {
  "kernelspec": {
   "display_name": "Python 3",
   "language": "python",
   "name": "python3"
  },
  "language_info": {
   "codemirror_mode": {
    "name": "ipython",
    "version": 3
   },
   "file_extension": ".py",
   "mimetype": "text/x-python",
   "name": "python",
   "nbconvert_exporter": "python",
   "pygments_lexer": "ipython3",
   "version": "3.7.4"
  }
 },
 "nbformat": 4,
 "nbformat_minor": 2
}
