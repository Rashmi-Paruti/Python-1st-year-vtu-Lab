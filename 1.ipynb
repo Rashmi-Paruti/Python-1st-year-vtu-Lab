{
 "cells": [
  {
   "cell_type": "markdown",
   "metadata": {},
   "source": [
    "# 1.a) Develop a program to read the student details like Name, USN, and Marks in three subjects. Display the student details, total marks and percentage with suitable messages"
   ]
  },
  {
   "cell_type": "code",
   "execution_count": 7,
   "metadata": {},
   "outputs": [
    {
     "name": "stdout",
     "output_type": "stream",
     "text": [
      "Enter the name of the student : Rashmi\n",
      "Enter the USN of the student : ISE2023\n",
      "Enter marks in Subject 1 : 90\n",
      "Enter marks in Subject 2 : 80\n",
      "Enter marks in Subject 3 : 85\n",
      "Student Details\n",
      "\n",
      "Name : Rashmi\n",
      "USN : ISE2023\n",
      "Marks 1 : 90\n",
      "Marks 2 : 80\n",
      "Marks 3 : 85\n",
      "Total : 255\n",
      "Percentage : 85.0\n"
     ]
    }
   ],
   "source": [
    "stuName = input(\"Enter the name of the student : \")\n",
    "stuUSN = input(\"Enter the USN of the student : \")\n",
    "stuMarks1 = int(input(\"Enter marks in Subject 1 : \"))\n",
    "stuMarks2 = int(input(\"Enter marks in Subject 2 : \"))\n",
    "stuMarks3 = int(input(\"Enter marks in Subject 3 : \"))\n",
    "\n",
    "\n",
    "print(\"Student Details\\n\")\n",
    "print(\"Name :\", stuName)\n",
    "print(\"USN :\", stuUSN)\n",
    "print(\"Marks 1 :\", stuMarks1)\n",
    "print(\"Marks 2 :\", stuMarks2)\n",
    "print(\"Marks 3 :\", stuMarks3)\n",
    "print(\"Total :\", stuMarks1+stuMarks2+stuMarks3)\n",
    "print(\"Percentage :\", (stuMarks1+stuMarks2+stuMarks3)/3)\n"
   ]
  },
  {
   "cell_type": "markdown",
   "metadata": {},
   "source": [
    "# Develop a program to read the name and year of birth of a person. Display whether the person is a senior citizen or not."
   ]
  },
  {
   "cell_type": "code",
   "execution_count": 9,
   "metadata": {},
   "outputs": [
    {
     "name": "stdout",
     "output_type": "stream",
     "text": [
      "Enter the name of the person : JK\n",
      "Enter year of birth : 1990\n",
      "JK aged 33 years is not a Senior Citizen.\n"
     ]
    }
   ],
   "source": [
    "from datetime import date\n",
    "\n",
    "\n",
    "Name = input(\"Enter the name of the person : \")\n",
    "DOB = int(input(\"Enter year of birth : \"))\n",
    "\n",
    "currentYear = date.today().year\n",
    "perAge = currentYear - DOB \n",
    "\n",
    "if (perAge > 60):\n",
    "    print(Name, \"aged\", perAge, \"years is a Senior Citizen.\")\n",
    "else:\n",
    "    print(Name, \"aged\", perAge, \"years is not a Senior Citizen.\")\n",
    "\n"
   ]
  }
 ],
 "metadata": {
  "kernelspec": {
   "display_name": "Python 3",
   "language": "python",
   "name": "python3"
  },
  "language_info": {
   "codemirror_mode": {
    "name": "ipython",
    "version": 3
   },
   "file_extension": ".py",
   "mimetype": "text/x-python",
   "name": "python",
   "nbconvert_exporter": "python",
   "pygments_lexer": "ipython3",
   "version": "3.7.4"
  }
 },
 "nbformat": 4,
 "nbformat_minor": 2
}
