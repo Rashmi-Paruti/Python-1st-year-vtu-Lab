{
 "cells": [
  {
   "cell_type": "markdown",
   "metadata": {},
   "source": [
    "# Develop a program that uses class Student which prompts the user to enter marks in three subjects and calculates total marks, percentage and displays the score card details. [Hint: Use list to store the marks in three subjects and total marks. Use init() method to initialize name, USN and the lists to store marks and total, Use getMarks() method to read marks into the list, and display() method to display the score card details.]"
   ]
  },
  {
   "cell_type": "code",
   "execution_count": 1,
   "metadata": {},
   "outputs": [],
   "source": [
    "class Student:\n",
    "    def __init__(self, name = \"\", usn = \"\", score = [0,0,0,0]):\n",
    "        self.name = name\n",
    "        self.usn = usn\n",
    "        self.score = score\n",
    "        \n",
    "    def getMarks(self):\n",
    "        self.name = input(\"Enter student Name : \")\n",
    "        self.usn = input(\"Enter student USN : \")\n",
    "        self.score[0] = int(input(\"Enter marks in Subject 1 : \"))\n",
    "        self.score[1] = int(input(\"Enter marks in Subject 2 : \"))\n",
    "        self.score[2] = int(input(\"Enter marks in Subject 3 : \"))\n",
    "        self.score[3] = self.score[0] + self.score[1] + self.score[2]\n",
    "        \n",
    "    def display(self):\n",
    "        percentage = self.score[3]/3\n",
    "        spcstr = \"=\" * 81\n",
    "        print(spcstr)\n",
    "        print(\"SCORE CARD DETAILS\".center(81))\n",
    "        print(spcstr)\n",
    "        print(\"%15s\"%(\"NAME\"), \"%12s\"%(\"USN\"), \"%8s\"%\"MARKS1\",\"%8s\"%\"MARKS2\",\"%8s\"%\"MARKS3\",\"%8s\"%\"TOTAL\",\"%12s\"%(\"PERCENTAGE\"))\n",
    "        print(spcstr)\n",
    "        print(\"%15s\"%self.name, \"%12s\"%self.usn, \"%8d\"%self.score[0],\"%8d\"%self.score[1],\"%8d\"%self.score[2],\"%8d\"%self.score[3],\"%12.2f\"%percentage)\n",
    "        print(spcstr)\n"
   ]
  },
  {
   "cell_type": "code",
   "execution_count": 2,
   "metadata": {},
   "outputs": [
    {
     "name": "stdout",
     "output_type": "stream",
     "text": [
      "Enter student Name : Rashmi\n",
      "Enter student USN : 1234\n",
      "Enter marks in Subject 1 : 90\n",
      "Enter marks in Subject 2 : 80\n",
      "Enter marks in Subject 3 : 70\n",
      "=================================================================================\n",
      "                                SCORE CARD DETAILS                               \n",
      "=================================================================================\n",
      "           NAME          USN   MARKS1   MARKS2   MARKS3    TOTAL   PERCENTAGE\n",
      "=================================================================================\n",
      "         Rashmi         1234       90       80       70      240        80.00\n",
      "=================================================================================\n"
     ]
    }
   ],
   "source": [
    "def main():\n",
    "    s1 = Student()\n",
    "    s1.getMarks()\n",
    "    s1.display()\n",
    "\n",
    "main()"
   ]
  }
 ],
 "metadata": {
  "kernelspec": {
   "display_name": "Python 3",
   "language": "python",
   "name": "python3"
  },
  "language_info": {
   "codemirror_mode": {
    "name": "ipython",
    "version": 3
   },
   "file_extension": ".py",
   "mimetype": "text/x-python",
   "name": "python",
   "nbconvert_exporter": "python",
   "pygments_lexer": "ipython3",
   "version": "3.7.4"
  }
 },
 "nbformat": 4,
 "nbformat_minor": 2
}
