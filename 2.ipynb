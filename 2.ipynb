{
 "cells": [
  {
   "cell_type": "markdown",
   "metadata": {},
   "source": [
    "# 2. a. Develop a program to generate Fibonacci sequence of length (N). Read N from the console."
   ]
  },
  {
   "cell_type": "code",
   "execution_count": 3,
   "metadata": {},
   "outputs": [
    {
     "name": "stdout",
     "output_type": "stream",
     "text": [
      "Enter the Fibonacci sequence length : 10\n",
      "The Fibonacci series with 10 terms is :\n",
      "0 1 1  2  3  5  8  13  21  34  "
     ]
    }
   ],
   "source": [
    "num = int(input(\"Enter the Fibonacci sequence length : \"))\n",
    "\n",
    "firstTerm = 0\n",
    "secondTerm = 1\n",
    "print(\"The Fibonacci series with\", num, \"terms is :\")\n",
    "print(firstTerm, secondTerm, end=\" \")\n",
    "for i in range(2,num):\n",
    "    curTerm = firstTerm + secondTerm\n",
    "    print(curTerm, end=\"  \")\n",
    "    firstTerm = secondTerm\n",
    "    secondTerm = curTerm"
   ]
  },
  {
   "cell_type": "markdown",
   "metadata": {},
   "source": [
    "# 2 b. Write a function to calculate factorial of a number. Develop a program to compute binomial coefficient (Given N and R)."
   ]
  },
  {
   "cell_type": "code",
   "execution_count": 6,
   "metadata": {},
   "outputs": [
    {
     "name": "stdout",
     "output_type": "stream",
     "text": [
      "Enter the value of N : 5\n",
      "Enter the value of R (R cannot be negative or greater than N): 2\n",
      "Factorial of  5 is :  120\n",
      "5 C 2  =  10.0\n"
     ]
    }
   ],
   "source": [
    "def fact(num):\n",
    "    if num == 0:\n",
    "        return 1\n",
    "    else:\n",
    "        return num * fact(num-1)\n",
    "    \n",
    "    \n",
    "n = int(input(\"Enter the value of N : \"))\n",
    "r = int(input(\"Enter the value of R (R cannot be negative or greater than N): \"))\n",
    "print(\"Factorial of \",n ,\"is : \",fact(n))\n",
    "nCr = fact(n)/(fact(r)*fact(n-r))\n",
    "\n",
    "print(n,'C',r,\" = \",nCr)"
   ]
  }
 ],
 "metadata": {
  "kernelspec": {
   "display_name": "Python 3",
   "language": "python",
   "name": "python3"
  }
 },
 "nbformat": 4,
 "nbformat_minor": 2
}
