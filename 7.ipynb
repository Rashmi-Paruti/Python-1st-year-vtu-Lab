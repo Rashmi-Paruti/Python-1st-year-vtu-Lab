{
 "cells": [
  {
   "cell_type": "code",
   "execution_count": 3,
   "metadata": {},
   "outputs": [
    {
     "name": "stdout",
     "output_type": "stream",
     "text": [
      "Enter Directory name that you want to backup : D:\\myfolder\n"
     ]
    }
   ],
   "source": [
    "import os\n",
    "import sys\n",
    "import pathlib\n",
    "import zipfile\n",
    "\n",
    "dirName = input(\"Enter Directory name that you want to backup : \")\n",
    "\n"
   ]
  },
  {
   "cell_type": "code",
   "execution_count": 2,
   "metadata": {},
   "outputs": [
    {
     "name": "stdout",
     "output_type": "stream",
     "text": [
      "Archive myZip.zip created successfully\n"
     ]
    }
   ],
   "source": [
    "if not os.path.isdir(dirName):\n",
    "    print(\"Directory\", dirName, \"doesn't exists\")\n",
    "    sys.exit(0)\n",
    "    \n",
    "curDirectory = pathlib.Path(dirName)\n",
    "    \n",
    "with zipfile.ZipFile(\"myZip.zip\", mode=\"w\") as archive:\n",
    "    for file_path in curDirectory.rglob(\"*\"):\n",
    "        archive.write(file_path, arcname=file_path.relative_to(curDirectory))\n",
    "    \n",
    "if os.path.isfile(\"myZip.zip\"):\n",
    "    print(\"Archive\", \"myZip.zip\", \"created successfully\")\n",
    "else:\n",
    "    print(\"Error in creating zip archive\")"
   ]
  },
  {
   "cell_type": "code",
   "execution_count": null,
   "metadata": {},
   "outputs": [],
   "source": []
  }
 ],
 "metadata": {
  "kernelspec": {
   "display_name": "Python 3",
   "language": "python",
   "name": "python3"
  },
  "language_info": {
   "codemirror_mode": {
    "name": "ipython",
    "version": 3
   },
   "file_extension": ".py",
   "mimetype": "text/x-python",
   "name": "python",
   "nbconvert_exporter": "python",
   "pygments_lexer": "ipython3",
   "version": "3.7.4"
  }
 },
 "nbformat": 4,
 "nbformat_minor": 2
}
