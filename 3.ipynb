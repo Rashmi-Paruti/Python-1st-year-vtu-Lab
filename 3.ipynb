{
 "cells": [
  {
   "cell_type": "markdown",
   "metadata": {},
   "source": [
    "# Read N numbers from the console and create a list. Develop a program to print mean, variance and standard deviation with suitable messages."
   ]
  },
  {
   "cell_type": "code",
   "execution_count": 3,
   "metadata": {},
   "outputs": [
    {
     "name": "stdout",
     "output_type": "stream",
     "text": [
      "Enter the number of elements in your list : 4\n",
      "Enter the element : 10\n",
      "Enter the element : 20\n",
      "Enter the element : 30\n",
      "Enter the element : 40\n",
      "The length of list1 is 4\n",
      "List Contents [10, 20, 30, 40]\n",
      "Mean = 25.0\n",
      "Variance = 125.0\n",
      "Standard Deviation = 11.18\n"
     ]
    }
   ],
   "source": [
    "from math import sqrt\n",
    "\n",
    "myList = []\n",
    "\n",
    "num = int(input(\"Enter the number of elements in your list : \"))\n",
    "\n",
    "for i in range(num):\n",
    "    val = int(input(\"Enter the element : \"))\n",
    "    myList.append(val)\n",
    "    \n",
    "print('The length of list1 is', len(myList))\n",
    "\n",
    "print('List Contents', myList)\n",
    "\n",
    "\n",
    "total = 0\n",
    "for elem in myList:\n",
    "    total += elem\n",
    "\n",
    "mean = total / num\n",
    "\n",
    "total = 0\n",
    "for elem in myList:\n",
    "    total += (elem - mean) * (elem - mean)\n",
    "\n",
    "variance = total / num\n",
    "\n",
    "stdDev = sqrt(variance)\n",
    "\n",
    "print(\"Mean =\", mean)\n",
    "print(\"Variance =\", variance)\n",
    "print(\"Standard Deviation =\", \"%.2f\"%stdDev)"
   ]
  }
 ],
 "metadata": {
  "kernelspec": {
   "display_name": "Python 3",
   "language": "python",
   "name": "python3"
  },
  "language_info": {
   "codemirror_mode": {
    "name": "ipython",
    "version": 3
   },
   "file_extension": ".py",
   "mimetype": "text/x-python",
   "name": "python",
   "nbconvert_exporter": "python",
   "pygments_lexer": "ipython3",
   "version": "3.7.4"
  }
 },
 "nbformat": 4,
 "nbformat_minor": 2
}
