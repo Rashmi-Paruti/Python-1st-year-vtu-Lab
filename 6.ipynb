{
 "cells": [
  {
   "cell_type": "markdown",
   "metadata": {},
   "source": [
    "# Develop a program to sort the contents of a text file and write the sorted contents into a separate text file. "
   ]
  },
  {
   "cell_type": "code",
   "execution_count": 1,
   "metadata": {},
   "outputs": [],
   "source": [
    "import os.path\n",
    "import sys"
   ]
  },
  {
   "cell_type": "code",
   "execution_count": 2,
   "metadata": {},
   "outputs": [
    {
     "name": "stdout",
     "output_type": "stream",
     "text": [
      "Enter the filename whose contents are to be sorted : sample.txt\n"
     ]
    }
   ],
   "source": [
    "fname = input(\"Enter the filename whose contents are to be sorted : \")"
   ]
  },
  {
   "cell_type": "code",
   "execution_count": 3,
   "metadata": {},
   "outputs": [],
   "source": [
    "if not os.path.isfile(fname):\n",
    "    print(\"File\", fname, \"doesn't exists\")\n",
    "    sys.exit(0)"
   ]
  },
  {
   "cell_type": "code",
   "execution_count": 4,
   "metadata": {},
   "outputs": [],
   "source": [
    "infile = open(fname, \"r\")\n",
    "\n",
    "myList = infile.readlines()"
   ]
  },
  {
   "cell_type": "code",
   "execution_count": 5,
   "metadata": {},
   "outputs": [],
   "source": [
    "#Remove \\n characters\n",
    "lineList = []\n",
    "for line in myList:\n",
    "    lineList.append(line.strip())"
   ]
  },
  {
   "cell_type": "code",
   "execution_count": 6,
   "metadata": {},
   "outputs": [],
   "source": [
    "lineList.sort()\n",
    "\n",
    "#Writing sorted contents to new file sorted.txt\n",
    "\n",
    "outfile = open(\"sorted.txt\",\"w\")"
   ]
  },
  {
   "cell_type": "code",
   "execution_count": 7,
   "metadata": {},
   "outputs": [],
   "source": [
    "for line in lineList:\n",
    "    outfile.write(line + \"\\n\")\n",
    "\n",
    "infile.close()  # Close the input file\n",
    "outfile.close() # Close the output file"
   ]
  },
  {
   "cell_type": "code",
   "execution_count": 8,
   "metadata": {},
   "outputs": [
    {
     "name": "stdout",
     "output_type": "stream",
     "text": [
      "\n",
      "File containing sorted content sorted.txt created successfully\n",
      "sorted.txt contains 12 lines\n",
      "Contents of sorted.txt\n",
      "=================================================================\n",
      "-- Phathotep, 24th Century B.C.\n",
      "Be cheerful while you are alive.\n",
      "Be different: conform.\n",
      "Better hope the life-inspector doesn't come around while you have your life in such a mess.\n",
      "Q: How many journalists does it take to screw in a light bulb? A: Three. One to report it as an inspired government program to bring light to the people, one to report it as a diabolical government plot to deprive the poor of darkness, and one to win a Pulitzer prize for reporting that Electric Company hired a light bulb-assassin to break the bulb in the first place.\n",
      "Q: Why did the astrophysicist order three hamburgers? A: Because he was hungry.\n",
      "Q: Why haven't you graduated yet?\n",
      "You can create your own opportunities this week. Blackmail a senior executive.\n",
      "no phone number here\n",
      "this is phone number +917348878215\n",
      "we have an email aryahanumanthu@gmail.in and a number +917348878215 nothing of that sort here\n",
      "we have one +917348878215\n"
     ]
    }
   ],
   "source": [
    "if os.path.isfile(\"sorted.txt\"):\n",
    "    print(\"\\nFile containing sorted content sorted.txt created successfully\")\n",
    "    print(\"sorted.txt contains\", len(lineList), \"lines\")\n",
    "    print(\"Contents of sorted.txt\")\n",
    "    print(\"=================================================================\")\n",
    "    rdFile = open(\"sorted.txt\",\"r\")\n",
    "    for line in rdFile:\n",
    "        print(line, end=\"\")"
   ]
  }
 ],
 "metadata": {
  "kernelspec": {
   "display_name": "Python 3",
   "language": "python",
   "name": "python3"
  },
  "language_info": {
   "codemirror_mode": {
    "name": "ipython",
    "version": 3
   },
   "file_extension": ".py",
   "mimetype": "text/x-python",
   "name": "python",
   "nbconvert_exporter": "python",
   "pygments_lexer": "ipython3",
   "version": "3.7.4"
  }
 },
 "nbformat": 4,
 "nbformat_minor": 2
}
